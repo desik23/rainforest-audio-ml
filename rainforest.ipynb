{
 "cells": [
  {
   "cell_type": "code",
   "execution_count": 27,
   "id": "ce5d155e-805b-4d69-b519-e93e80a96146",
   "metadata": {},
   "outputs": [],
   "source": [
    "import pandas as pd\n",
    "import os\n",
    "import csv\n",
    "import librosa\n",
    "import numpy as np\n",
    "from skimage.transform import resize\n",
    "from PIL import Image\n",
    "\n",
    "import warnings\n"
   ]
  },
  {
   "cell_type": "code",
   "execution_count": 21,
   "id": "e00c72c4-6daa-47b5-9bfc-587ab3ab4592",
   "metadata": {},
   "outputs": [],
   "source": [
    "base_dir = \"/courses/EDS232/rainforest\""
   ]
  },
  {
   "cell_type": "code",
   "execution_count": 22,
   "id": "e4751ac5-228d-490b-9429-ac9430298017",
   "metadata": {},
   "outputs": [],
   "source": [
    "fft = 2048\n",
    "hop = 512\n",
    "# Less rounding errors this way\n",
    "sr = 48000\n",
    "length = 10 * sr\n",
    "\n",
    "with open('/courses/EDS232/rainforest/train_tp.csv') as f:\n",
    "    reader = csv.reader(f)\n",
    "    data = list(reader)\n",
    "\n",
    "# data = pd.read_csv(os.path.join(base_dir, 'train_tp.csv'))"
   ]
  },
  {
   "cell_type": "code",
   "execution_count": 23,
   "id": "a9cd9cd0-46d0-4b15-9f4b-04fe1bbb5196",
   "metadata": {},
   "outputs": [
    {
     "name": "stdout",
     "output_type": "stream",
     "text": [
      "Minimum frequency: 84, maximum frequency: 15056\n"
     ]
    }
   ],
   "source": [
    "# Check minimum/maximum frequencies for bird calls\n",
    "# Not neccesary, but there are usually plenty of noise in low frequencies, and removing it helps\n",
    "fmin = 24000\n",
    "fmax = 0\n",
    "\n",
    "\n",
    "# Skip header row (recording_id,species_id,songtype_id,t_min,f_min,t_max,f_max) and start from 1 instead of 0\n",
    "for i in range(1, len(data)):\n",
    "    if fmin > float(data[i][4]):\n",
    "        fmin = float(data[i][4])\n",
    "    if fmax < float(data[i][6]):\n",
    "        fmax = float(data[i][6])\n",
    "\n",
    "# Get some safety margin\n",
    "fmin = int(fmin * 0.9)\n",
    "\n",
    "fmax = int(fmax * 1.1)\n",
    "print('Minimum frequency: ' + str(fmin) + ', maximum frequency: ' + str(fmax))"
   ]
  },
  {
   "cell_type": "code",
   "execution_count": null,
   "id": "3bfb12b0-9ebd-480c-adb4-4157434ae6b9",
   "metadata": {},
   "outputs": [
    {
     "name": "stdout",
     "output_type": "stream",
     "text": [
      "Starting spectrogram generation\n",
      "Processed 100 train examples from 1217\n",
      "Processed 200 train examples from 1217\n",
      "Processed 300 train examples from 1217\n",
      "Processed 400 train examples from 1217\n"
     ]
    }
   ],
   "source": [
    "warnings.filterwarnings('ignore')\n",
    "\n",
    "print('Starting spectrogram generation')\n",
    "for i in range(1, len(data)):\n",
    "    # All sound files are 48000 bitrate, no need to slowly resample\n",
    "    wav, sr = librosa.load('/courses/EDS232/rainforest/train/' + data[i][0] + '.flac', sr=None)\n",
    "    \n",
    "    t_min = float(data[i][3]) * sr\n",
    "    t_max = float(data[i][5]) * sr\n",
    "    \n",
    "    # Positioning sound slice\n",
    "    center = np.round((t_min + t_max) / 2)\n",
    "    beginning = center - length / 2\n",
    "    if beginning < 0:\n",
    "        beginning = 0\n",
    "    \n",
    "    ending = beginning + length\n",
    "    if ending > len(wav):\n",
    "        ending = len(wav)\n",
    "        beginning = ending - length\n",
    "        \n",
    "    slice = wav[int(beginning):int(ending)]\n",
    "    \n",
    "    # Mel spectrogram generation\n",
    "    # Default settings were bad, parameters are adjusted to generate somewhat \n",
    "    # reasonable quality images\n",
    "    # The better your images are, the better your neural net would perform\n",
    "    # You can also use librosa.stft + librosa.amplitude_to_db instead\n",
    "    mel_spec = librosa.feature.melspectrogram(slice, n_fft=fft, hop_length=hop, sr=sr, fmin=fmin, fmax=fmax, power=1.5)\n",
    "    mel_spec = resize(mel_spec, (224, 400))\n",
    "    \n",
    "    # Normalize to 0...1 - this is what goes into neural net\n",
    "    mel_spec = mel_spec - np.min(mel_spec)\n",
    "    mel_spec = mel_spec / np.max(mel_spec)\n",
    "\n",
    "    # And this 0...255 is for the saving in bmp format\n",
    "    mel_spec = mel_spec * 255\n",
    "    mel_spec = np.round(mel_spec)    \n",
    "    mel_spec = mel_spec.astype('uint8')\n",
    "    mel_spec = np.asarray(mel_spec)\n",
    "    \n",
    "    bmp = Image.fromarray(mel_spec, 'L')\n",
    "    bmp.save('/courses/EDS232/rainforest/working/' + data[i][0] + '_' + data[i][1] + '_' + str(center) + '.bmp')\n",
    "    \n",
    "    if i % 100 == 0:\n",
    "        print('Processed ' + str(i) + ' train examples from ' + str(len(data)))\n",
    "\n",
    "\n",
    "# You can write up to 20GB to the current directory (/kaggle/working/) that gets preserved as output when you create a version using \"Save & Run All\" \n",
    "# You can also write temporary files to /kaggle/temp/, but they won't be saved outside of the current session"
   ]
  },
  {
   "cell_type": "code",
   "execution_count": null,
   "id": "0067567c-7a89-40d2-b6c2-0fcf47728c2d",
   "metadata": {},
   "outputs": [],
   "source": []
  }
 ],
 "metadata": {
  "kernelspec": {
   "display_name": "Python 3 (ipykernel)",
   "language": "python",
   "name": "python3"
  },
  "language_info": {
   "codemirror_mode": {
    "name": "ipython",
    "version": 3
   },
   "file_extension": ".py",
   "mimetype": "text/x-python",
   "name": "python",
   "nbconvert_exporter": "python",
   "pygments_lexer": "ipython3",
   "version": "3.7.7"
  }
 },
 "nbformat": 4,
 "nbformat_minor": 5
}
